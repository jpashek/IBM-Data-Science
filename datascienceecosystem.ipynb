{
 "cells": [
  {
   "cell_type": "markdown",
   "id": "c6275311-1982-4a88-a8d5-bff51ca654d1",
   "metadata": {},
   "source": [
    "# Data Science Tools and Ecosystem"
   ]
  },
  {
   "cell_type": "markdown",
   "id": "7ace02c6-996b-4617-9e8b-a537536a4d9d",
   "metadata": {},
   "source": [
    "## introduction\n",
    "\n",
    "In this notebook, Data Science Tools and Ecosystem are summarized.\n"
   ]
  },
  {
   "cell_type": "markdown",
   "id": "e64112fb-d1b6-48e0-be08-10f4cf5dba6f",
   "metadata": {},
   "source": [
    "**Objectives:**\n",
    "- List Data Science Languages\n",
    "- List Data Science Libraries\n",
    "- List Data Science Tools\n",
    "- Create and Use a Table"
   ]
  },
  {
   "cell_type": "markdown",
   "id": "80fdd99f-6670-46d7-a85f-95cca8bbf2fb",
   "metadata": {},
   "source": [
    "### Data Science Languages\n",
    "Data Science Languages include:\n",
    "1. SQL\n",
    "2. R\n",
    "3. Python\n",
    "4. C++\n",
    "5. Java"
   ]
  },
  {
   "cell_type": "markdown",
   "id": "5bc11684-9b01-43fa-a7bd-348b7d6dda17",
   "metadata": {},
   "source": [
    "### Data Science Libraries\n",
    "Data Science Libraries include:\n",
    "1. NumPy\n",
    "2. Pandas\n",
    "3. Caffe2\n",
    "4. Matplotlib\n",
    "5. SciPy"
   ]
  },
  {
   "cell_type": "markdown",
   "id": "ccf6ec2e-9ade-4d6f-8d50-30137b4d0288",
   "metadata": {},
   "source": [
    "### Data Science Tools\n",
    "|Data Science Tool|\n",
    "|-----------------|\n",
    "|SAS|\n",
    "|Apache Spark|\n",
    "|BigML|"
   ]
  },
  {
   "cell_type": "markdown",
   "id": "67d93036-5d04-48e6-9049-c6758ceda8ad",
   "metadata": {},
   "source": [
    "### Arithmetic Expression Samples\n",
    "Some examples of basic arithmetic:"
   ]
  },
  {
   "cell_type": "code",
   "execution_count": 66,
   "id": "5b944a03-b665-47f2-b549-19bb193dff97",
   "metadata": {},
   "outputs": [
    {
     "data": {
      "text/plain": [
       "26"
      ]
     },
     "execution_count": 66,
     "metadata": {},
     "output_type": "execute_result"
    }
   ],
   "source": [
    "#Addition\n",
    "(20 +6 )"
   ]
  },
  {
   "cell_type": "code",
   "execution_count": 68,
   "id": "706a7412-b2be-4e84-a297-84006d1340e0",
   "metadata": {},
   "outputs": [
    {
     "data": {
      "text/plain": [
       "14"
      ]
     },
     "execution_count": 68,
     "metadata": {},
     "output_type": "execute_result"
    }
   ],
   "source": [
    "#subtraction\n",
    "(20-6)"
   ]
  },
  {
   "cell_type": "code",
   "execution_count": 70,
   "id": "33e31bf5-4be3-4812-828e-e7e69b7a2525",
   "metadata": {},
   "outputs": [
    {
     "data": {
      "text/plain": [
       "17"
      ]
     },
     "execution_count": 70,
     "metadata": {},
     "output_type": "execute_result"
    }
   ],
   "source": [
    "#multiplication\n",
    "(3* 4) + 5"
   ]
  },
  {
   "cell_type": "code",
   "execution_count": 72,
   "id": "4acef5c2-ed97-4d7c-a786-d24fa112e99a",
   "metadata": {},
   "outputs": [
    {
     "data": {
      "text/plain": [
       "7.0"
      ]
     },
     "execution_count": 72,
     "metadata": {},
     "output_type": "execute_result"
    }
   ],
   "source": [
    "#division\n",
    "(10 +4) / 2"
   ]
  },
  {
   "cell_type": "code",
   "execution_count": 74,
   "id": "216be9ce-f7a2-41ed-a5bb-5d55cade30d1",
   "metadata": {},
   "outputs": [
    {
     "name": "stdout",
     "output_type": "stream",
     "text": [
      "3.3333333333333335 hours\n"
     ]
    }
   ],
   "source": [
    "#minutes to hours\n",
    "minutes = 200\n",
    "hours = minutes / 60\n",
    "print (str((hours)) + (\" hours\"))"
   ]
  },
  {
   "cell_type": "markdown",
   "id": "ea2cc26b-0737-42f3-bc8b-368c52d3bd6b",
   "metadata": {},
   "source": [
    "## Author\n",
    "James Pashek"
   ]
  }
 ],
 "metadata": {
  "kernelspec": {
   "display_name": "Python 3 (ipykernel)",
   "language": "python",
   "name": "python3"
  },
  "language_info": {
   "codemirror_mode": {
    "name": "ipython",
    "version": 3
   },
   "file_extension": ".py",
   "mimetype": "text/x-python",
   "name": "python",
   "nbconvert_exporter": "python",
   "pygments_lexer": "ipython3",
   "version": "3.11.7"
  }
 },
 "nbformat": 4,
 "nbformat_minor": 5
}
